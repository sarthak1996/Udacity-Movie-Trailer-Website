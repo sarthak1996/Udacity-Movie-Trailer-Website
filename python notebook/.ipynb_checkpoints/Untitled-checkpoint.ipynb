{
 "cells": [
  {
   "cell_type": "code",
   "execution_count": 2,
   "metadata": {},
   "outputs": [],
   "source": [
    "def get_str_left_allign(param_str):\n",
    "        l_padding = 0\n",
    "        for i in param_str:\n",
    "            l_padding += 1\n",
    "            if i == ':':\n",
    "                break\n",
    "        return l_padding\n",
    "\n",
    "def convert_line_breaks_to_strs(param_str):\n",
    "        return param_str.split('\\n')"
   ]
  },
  {
   "cell_type": "code",
   "execution_count": 3,
   "metadata": {},
   "outputs": [],
   "source": [
    "import textwrap"
   ]
  },
  {
   "cell_type": "code",
   "execution_count": 4,
   "metadata": {},
   "outputs": [],
   "source": [
    "disp_size=70"
   ]
  },
  {
   "cell_type": "code",
   "execution_count": 26,
   "metadata": {},
   "outputs": [],
   "source": [
    "def fit_string_to_width(param_str,width,enable_hyphen=False):\n",
    "    i=0\n",
    "    str_split=[]\n",
    "    while(i<len(param_str)):\n",
    "        if not(enable_hyphen):\n",
    "            str_split.append(param_str[i:i+width])\n",
    "            i+=width\n",
    "        else:\n",
    "            tmp_str=param_str[i:i+width]\n",
    "            i=i+width\n",
    "            if tmp_str[-1]!=' ':\n",
    "                tmp_str[-1]='-'\n",
    "                i-=1\n",
    "            str_split.append(tmp_str)\n",
    "    return str_split"
   ]
  },
  {
   "cell_type": "code",
   "execution_count": 27,
   "metadata": {},
   "outputs": [],
   "source": [
    "\n",
    "def print_formatted_output(title):\n",
    "        print('*' * disp_size)\n",
    "        title_str = 'Title:'\n",
    "        l_padding = get_str_left_allign(title_str.center(disp_size))\n",
    "        title_split = fit_string_to_width(title, width=disp_size - l_padding + 10)\n",
    "        print('\\n'.join(title_split))\n",
    "        title_str += title_split[0]\n",
    "        title_str = title_str.center(disp_size)\n",
    "        print(title_str)\n",
    "        print('\\n'.join((' ' * get_str_left_allign(title_str)) + title_split[i] for i in range(1, len(title_split))))\n",
    "        # print(('Title:' + self.title).center(self.disp_size, ' '))\n",
    "        # print('Storyline' + self.storyline)\n",
    "        # print('Duration' + str(self.duration))\n",
    "        # print('Poster' + self.poster_image_url)\n",
    "        # print('utube' + self.trailer_youtube_url)\n",
    "        print('*' * disp_size)"
   ]
  },
  {
   "cell_type": "code",
   "execution_count": 28,
   "metadata": {},
   "outputs": [
    {
     "name": "stdout",
     "output_type": "stream",
     "text": [
      "**********************************************************************\n",
      "abcdefghijklmnopqrskjhjkhkkjkjkjhjhkjhj hk\n",
      "hktuvwxyzhjhj abcdefghijklmnopqrstuvwxyz a\n",
      "bcdefghijklmnopqrstuvwxyz abcdefghijklmnop\n",
      "qrstuvwxyz \n",
      "           Title:abcdefghijklmnopqrskjhjkhkkjkjkjhjhkjhj hk           \n",
      "                 hktuvwxyzhjhj abcdefghijklmnopqrstuvwxyz a\n",
      "                 bcdefghijklmnopqrstuvwxyz abcdefghijklmnop\n",
      "                 qrstuvwxyz \n",
      "**********************************************************************\n"
     ]
    }
   ],
   "source": [
    "print_formatted_output('abcdefghijklmnopqrskjhjkhkkjkjkjhjhkjhj hkhktuvwxyzhjhj abcdefghijklmnopqrstuvwxyz abcdefghijklmnopqrstuvwxyz abcdefghijklmnopqrstuvwxyz ')"
   ]
  },
  {
   "cell_type": "code",
   "execution_count": 32,
   "metadata": {},
   "outputs": [],
   "source": [
    "str_1='sadfd '"
   ]
  },
  {
   "cell_type": "code",
   "execution_count": 33,
   "metadata": {},
   "outputs": [
    {
     "data": {
      "text/plain": [
       "' '"
      ]
     },
     "execution_count": 33,
     "metadata": {},
     "output_type": "execute_result"
    }
   ],
   "source": [
    "str_1[-1]"
   ]
  },
  {
   "cell_type": "code",
   "execution_count": null,
   "metadata": {},
   "outputs": [],
   "source": []
  }
 ],
 "metadata": {
  "kernelspec": {
   "display_name": "Python 3",
   "language": "python",
   "name": "python3"
  },
  "language_info": {
   "codemirror_mode": {
    "name": "ipython",
    "version": 3
   },
   "file_extension": ".py",
   "mimetype": "text/x-python",
   "name": "python",
   "nbconvert_exporter": "python",
   "pygments_lexer": "ipython3",
   "version": "3.7.0"
  }
 },
 "nbformat": 4,
 "nbformat_minor": 2
}
